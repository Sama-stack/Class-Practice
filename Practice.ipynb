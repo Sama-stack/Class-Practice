{
 "cells": [
  {
   "cell_type": "code",
   "execution_count": 1,
   "id": "e1e98219-42a8-4ee6-ad17-3fb8916be825",
   "metadata": {},
   "outputs": [
    {
     "name": "stdout",
     "output_type": "stream",
     "text": [
      "My name is Sam\n"
     ]
    }
   ],
   "source": [
    "print(\"My name is Sam\")"
   ]
  },
  {
   "cell_type": "code",
   "execution_count": null,
   "id": "897408cf-0751-457f-9310-5521edc0591d",
   "metadata": {},
   "outputs": [],
   "source": []
  }
 ],
 "metadata": {
  "kernelspec": {
   "display_name": "Python 3 (ipykernel)",
   "language": "python",
   "name": "python3"
  },
  "language_info": {
   "codemirror_mode": {
    "name": "ipython",
    "version": 3
   },
   "file_extension": ".py",
   "mimetype": "text/x-python",
   "name": "python",
   "nbconvert_exporter": "python",
   "pygments_lexer": "ipython3",
   "version": "3.11.7"
  }
 },
 "nbformat": 4,
 "nbformat_minor": 5
}
